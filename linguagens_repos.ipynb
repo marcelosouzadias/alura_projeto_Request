{
 "cells": [
  {
   "cell_type": "markdown",
   "metadata": {},
   "source": [
    "# Conhecendo a Request\n",
    "\n",
    "Repositório Git: https://github.com/marcelosouzadias/alura_projeto_Request\n",
    "\n",
    "----"
   ]
  },
  {
   "cell_type": "markdown",
   "metadata": {},
   "source": [
    "### Primeira Requisição"
   ]
  }
 ],
 "metadata": {
  "language_info": {
   "name": "python"
  }
 },
 "nbformat": 4,
 "nbformat_minor": 2
}
